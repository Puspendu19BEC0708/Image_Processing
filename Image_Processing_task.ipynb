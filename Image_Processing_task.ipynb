{
 "cells": [
  {
   "cell_type": "markdown",
   "metadata": {},
   "source": [
    "# Image_Processing\n",
    "<u><h3>Import the PIL libary</h3></u>\n",
    "<ul>\n",
    "  <li>To resize the image</li>\n",
    "  <p>To resize the image use Image.resize() before that store the image in the variable name image after resizing the image store the image in the new variable and \n",
    "  name it as  new_image </p>\n",
    "    \n",
    "  <li>To rotate the image</li>\n",
    "  <p>Perform the rotation operation on the new_image and store it in the new variable  rotated_image1</p>\n",
    "  \n",
    "</ul>\n",
    "<p>To repeat the above process for 5 different images put the above process in the for loop</p>\n",
    "<p>To fit all the thereat object into the Baggage  boundary  i apply an if condition and rotate and resize the image accoringly</p>"
   ]
  },
  {
   "cell_type": "code",
   "execution_count": 143,
   "metadata": {},
   "outputs": [],
   "source": [
    "from PIL import Image \n",
    "for i in range(1,6):\n",
    "    if i==5 or i==3:\n",
    "        image = Image.open('T'+str(i)+'.jpg')\n",
    "        new_image = image.resize((600, 600))\n",
    "        rotated_image1 =  new_image.rotate(360)\n",
    "        rotated_image1.save('Z'+str(i)+'.jpg')\n",
    "        continue;\n",
    "    if i==4:\n",
    "        image = Image.open('T'+str(i)+'.jpg')\n",
    "        new_image = image.resize((600, 700))\n",
    "        rotated_image1 =  new_image.rotate(190)\n",
    "        rotated_image1.save('Z'+str(i)+'.jpg')\n",
    "        continue;\n",
    "    image = Image.open('T'+str(i)+'.jpg')\n",
    "    new_image = image.resize((400, 700))\n",
    "    rotated_image1 =  new_image.rotate(180)\n",
    "    rotated_image1.save('Z'+str(i)+'.jpg')\n",
    "\n"
   ]
  },
  {
   "cell_type": "markdown",
   "metadata": {},
   "source": [
    "<u><h3>Import pixellib</h3></u>\n",
    "  <ul>\n",
    "  <li>To segmented the image from the frame and place the segmented image in the  background according to our need </li>\n",
    "   <p>From the pixellib import the class alter_bg()\n",
    "     create the instances of alter_bg() class to load the deeplabv3+ trained model to  segment the image of the required object and remove the back ground\n",
    "     to load the model use the function load_pascalvoc_model() this function will take the deeplabv3+ trained model in h5 file format\n",
    "     Now change the back ground of the image accordingly by using change_bg_img() This will take the following parameter</p>\n",
    "    <ul>\n",
    "    <li>Foreground image whose background need to be change</li>\n",
    "    <li>Back ground image use to set the back ground of the foreground image</li>\n",
    "    <li>The new image with the change back ground</li>\n",
    "    </ul>\n",
    "  </ul>\n",
    " <p>Put the above proces in for loop to apply it for n different images \n",
    "    \n",
    " "
   ]
  },
  {
   "cell_type": "code",
   "execution_count": 144,
   "metadata": {},
   "outputs": [],
   "source": [
    "import pixellib\n",
    "from pixellib.tune_bg import alter_bg\n",
    "\n",
    "change_bg = alter_bg()\n",
    "change_bg.load_pascalvoc_model(\"deeplabv3_xception_tf_dim_ordering_tf_kernels.h5\")\n",
    "for i in range(1,6):\n",
    "    change_bg.change_bg_img(f_image_path = \"Z\"+str(i)+\".jpg\",b_image_path = \"B\"+str(i)+\".jpg\", output_image_name=\"V\"+str(i)+\".jpg\")"
   ]
  },
  {
   "cell_type": "code",
   "execution_count": null,
   "metadata": {},
   "outputs": [],
   "source": []
  }
 ],
 "metadata": {
  "kernelspec": {
   "display_name": "Python 3",
   "language": "python",
   "name": "python3"
  },
  "language_info": {
   "codemirror_mode": {
    "name": "ipython",
    "version": 3
   },
   "file_extension": ".py",
   "mimetype": "text/x-python",
   "name": "python",
   "nbconvert_exporter": "python",
   "pygments_lexer": "ipython3",
   "version": "3.8.5"
  }
 },
 "nbformat": 4,
 "nbformat_minor": 4
}
